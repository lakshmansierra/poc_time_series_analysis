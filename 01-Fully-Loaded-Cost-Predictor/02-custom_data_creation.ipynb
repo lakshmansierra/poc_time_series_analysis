{
  "cells": [
    {
      "cell_type": "markdown",
      "metadata": {
        "colab_type": "text",
        "id": "37puETfgRzzg"
      },
      "source": [
        "# Custom Data Creation"
      ]
    },
    {
      "cell_type": "markdown",
      "metadata": {
        "colab_type": "text",
        "id": "EoRP98MpR-qj"
      },
      "source": [
        "## Importing the libraries"
      ]
    },
    {
      "cell_type": "code",
      "execution_count": 1,
      "metadata": {
        "colab": {},
        "colab_type": "code",
        "id": "N-qiINBQSK2g"
      },
      "outputs": [],
      "source": [
        "import os\n",
        "import numpy as np\n",
        "import matplotlib.pyplot as plt\n",
        "import pandas as pd\n"
      ]
    },
    {
      "cell_type": "markdown",
      "metadata": {
        "colab_type": "text",
        "id": "RopL7tUZSQkT"
      },
      "source": [
        "## Importing the dataset"
      ]
    },
    {
      "cell_type": "code",
      "execution_count": 2,
      "metadata": {},
      "outputs": [],
      "source": [
        "df = pd.read_excel(\"1_updated_data/1_updated_data.xlsx\")\n"
      ]
    },
    {
      "cell_type": "code",
      "execution_count": 5,
      "metadata": {},
      "outputs": [
        {
          "name": "stdout",
          "output_type": "stream",
          "text": [
            "                Current_Role  Zip Code  Employee_ID  Employee Annual Salary$  \\\n",
            "0   Senior Software Engineer     94103           57                   130800   \n",
            "1   Associate Data Scientist     94111           58                    74250   \n",
            "2  Associate Product Manager     10009           59                   125850   \n",
            "3           Business Analyst     60605           60                    84750   \n",
            "4    Chief Operating Officer      2101           61                   300000   \n",
            "\n",
            "   Monthly Medical contribution$  Monthly Dental Contribution$  \\\n",
            "0                            130                            35   \n",
            "1                            105                            30   \n",
            "2                            130                            35   \n",
            "3                            105                            30   \n",
            "4                            230                            55   \n",
            "\n",
            "   Monthly Vision Contribution$  Bonus $  Years_Of_Service    Department  \\\n",
            "0                            19    13865               5.2   Engineering   \n",
            "1                            17     4344               1.7  Data Science   \n",
            "2                            19    15920               1.3       Product   \n",
            "3                            17     5890               3.9       Finance   \n",
            "4                            27    90000              15.2     Executive   \n",
            "\n",
            "       Gender  Employee HR rate  # of Hours per week  \\\n",
            "0        Male                60                   40   \n",
            "1  Non-Binary               117                   40   \n",
            "2  Non-Binary               147                   40   \n",
            "3      Female               153                   40   \n",
            "4      Female                79                   40   \n",
            "\n",
            "   Years_Since_Last_Promotion  age  left  \n",
            "0                    2.800821   34     0  \n",
            "1                    1.563313   29     0  \n",
            "2                    1.245722   31     0  \n",
            "3                    2.297057   31     0  \n",
            "4                    5.782341   41     1  \n"
          ]
        }
      ],
      "source": [
        "print(df.head())"
      ]
    },
    {
      "cell_type": "markdown",
      "metadata": {},
      "source": [
        "## Custom Time Series Dataset"
      ]
    },
    {
      "cell_type": "code",
      "execution_count": null,
      "metadata": {},
      "outputs": [],
      "source": []
    }
  ],
  "metadata": {
    "colab": {
      "collapsed_sections": [],
      "name": "data_preprocessing_tools.ipynb",
      "provenance": [],
      "toc_visible": true
    },
    "kernelspec": {
      "display_name": ".venv",
      "language": "python",
      "name": "python3"
    },
    "language_info": {
      "codemirror_mode": {
        "name": "ipython",
        "version": 3
      },
      "file_extension": ".py",
      "mimetype": "text/x-python",
      "name": "python",
      "nbconvert_exporter": "python",
      "pygments_lexer": "ipython3",
      "version": "3.13.3"
    }
  },
  "nbformat": 4,
  "nbformat_minor": 0
}
