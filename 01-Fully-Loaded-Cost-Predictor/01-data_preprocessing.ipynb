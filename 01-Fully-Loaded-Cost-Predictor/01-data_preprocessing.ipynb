{
  "cells": [
    {
      "cell_type": "markdown",
      "metadata": {
        "colab_type": "text",
        "id": "37puETfgRzzg"
      },
      "source": [
        "# Data Preprocessing Tools"
      ]
    },
    {
      "cell_type": "markdown",
      "metadata": {
        "colab_type": "text",
        "id": "EoRP98MpR-qj"
      },
      "source": [
        "## Importing the libraries"
      ]
    },
    {
      "cell_type": "code",
      "execution_count": 1,
      "metadata": {
        "colab": {},
        "colab_type": "code",
        "id": "N-qiINBQSK2g"
      },
      "outputs": [],
      "source": [
        "import os\n",
        "import numpy as np\n",
        "import matplotlib.pyplot as plt\n",
        "import pandas as pd\n"
      ]
    },
    {
      "cell_type": "markdown",
      "metadata": {
        "colab_type": "text",
        "id": "RopL7tUZSQkT"
      },
      "source": [
        "## Importing the dataset"
      ]
    },
    {
      "cell_type": "code",
      "execution_count": 2,
      "metadata": {},
      "outputs": [],
      "source": [
        "# Your selected columns\n",
        "s4_req_cols = ['SAP Personnel #', 'Current_Role', 'Birthdate', 'Zip Code']\n",
        "workday_req_cols = ['Employee_ID', 'Employee Annual Salary$', 'Monthly Medical contribution$', 'Monthly Dental Contribution$', \n",
        "                    'Monthly Vision Contribution$', 'Bonus $', 'Years_Of_Service', 'Last_Promoted', 'Department',\n",
        "                    'Gender', 'Employee HR rate', '# of Hours per week']\n",
        "\n",
        "# Load only required columns\n",
        "df_s4 = pd.read_excel(\"raw_data/resources_s4.xlsx\", usecols=s4_req_cols)\n",
        "df_workday = pd.read_excel(\"raw_data/resources_workday.xlsx\", usecols=workday_req_cols)\n"
      ]
    },
    {
      "cell_type": "code",
      "execution_count": 3,
      "metadata": {},
      "outputs": [
        {
          "name": "stdout",
          "output_type": "stream",
          "text": [
            "   SAP Personnel #               Current_Role  Birthdate  Zip Code\n",
            "0               57   Senior Software Engineer 1991-05-19     94103\n",
            "1               58   Associate Data Scientist 1996-03-23     94111\n",
            "2               59  Associate Product Manager 1993-09-25     10009\n",
            "3               60           Business Analyst 1994-03-03     60605\n",
            "4               61    Chief Operating Officer 1984-01-13      2101\n",
            "   Employee_ID  Employee Annual Salary$  Monthly Medical contribution$  \\\n",
            "0           57                   130800                            130   \n",
            "1           58                    74250                            105   \n",
            "2           59                   125850                            130   \n",
            "3           60                    84750                            105   \n",
            "4           61                   300000                            230   \n",
            "\n",
            "   Monthly Dental Contribution$  Monthly Vision Contribution$  Bonus $  \\\n",
            "0                            35                            19    13865   \n",
            "1                            30                            17     4344   \n",
            "2                            35                            19    15920   \n",
            "3                            30                            17     5890   \n",
            "4                            55                            27    90000   \n",
            "\n",
            "   Years_Of_Service Last_Promoted    Department      Gender  Employee HR rate  \\\n",
            "0               5.2    2022-08-15   Engineering        Male                60   \n",
            "1               1.7    2023-11-10  Data Science  Non-Binary               117   \n",
            "2               1.3    2024-03-05       Product  Non-Binary               147   \n",
            "3               3.9    2023-02-15       Finance      Female               153   \n",
            "4              15.2    2019-08-22     Executive      Female                79   \n",
            "\n",
            "   # of Hours per week  \n",
            "0                   40  \n",
            "1                   40  \n",
            "2                   40  \n",
            "3                   40  \n",
            "4                   40  \n"
          ]
        }
      ],
      "source": [
        "print(df_s4.head())\n",
        "print(df_workday.head())"
      ]
    },
    {
      "cell_type": "markdown",
      "metadata": {},
      "source": [
        "## Merging the dataset"
      ]
    },
    {
      "cell_type": "code",
      "execution_count": 4,
      "metadata": {},
      "outputs": [],
      "source": [
        "# Merge on SAP Personnel # and Employee_ID\n",
        "df_merged = pd.merge(df_s4, df_workday, left_on='SAP Personnel #', right_on='Employee_ID', how='inner')\n",
        "\n",
        "# Drop both ID columns since they are just identifiers\n",
        "df_merged.drop(columns=['SAP Personnel #', 'Employee_ID'], errors='ignore', inplace=True)"
      ]
    },
    {
      "cell_type": "code",
      "execution_count": 5,
      "metadata": {},
      "outputs": [
        {
          "name": "stdout",
          "output_type": "stream",
          "text": [
            "                Current_Role  Birthdate  Zip Code  Employee Annual Salary$  \\\n",
            "0   Senior Software Engineer 1991-05-19     94103                   130800   \n",
            "1   Associate Data Scientist 1996-03-23     94111                    74250   \n",
            "2  Associate Product Manager 1993-09-25     10009                   125850   \n",
            "3           Business Analyst 1994-03-03     60605                    84750   \n",
            "4    Chief Operating Officer 1984-01-13      2101                   300000   \n",
            "\n",
            "   Monthly Medical contribution$  Monthly Dental Contribution$  \\\n",
            "0                            130                            35   \n",
            "1                            105                            30   \n",
            "2                            130                            35   \n",
            "3                            105                            30   \n",
            "4                            230                            55   \n",
            "\n",
            "   Monthly Vision Contribution$  Bonus $  Years_Of_Service Last_Promoted  \\\n",
            "0                            19    13865               5.2    2022-08-15   \n",
            "1                            17     4344               1.7    2023-11-10   \n",
            "2                            19    15920               1.3    2024-03-05   \n",
            "3                            17     5890               3.9    2023-02-15   \n",
            "4                            27    90000              15.2    2019-08-22   \n",
            "\n",
            "     Department      Gender  Employee HR rate  # of Hours per week  \n",
            "0   Engineering        Male                60                   40  \n",
            "1  Data Science  Non-Binary               117                   40  \n",
            "2       Product  Non-Binary               147                   40  \n",
            "3       Finance      Female               153                   40  \n",
            "4     Executive      Female                79                   40  \n"
          ]
        }
      ],
      "source": [
        "print(df_merged.head())"
      ]
    },
    {
      "cell_type": "code",
      "execution_count": 6,
      "metadata": {},
      "outputs": [
        {
          "name": "stdout",
          "output_type": "stream",
          "text": [
            "(100, 14)\n"
          ]
        }
      ],
      "source": [
        "print(df_merged.shape)"
      ]
    },
    {
      "cell_type": "markdown",
      "metadata": {},
      "source": [
        "## Feature Engineering"
      ]
    },
    {
      "cell_type": "code",
      "execution_count": 7,
      "metadata": {},
      "outputs": [
        {
          "name": "stdout",
          "output_type": "stream",
          "text": [
            "   Years_Since_Last_Promotion  age\n",
            "0                    2.778919   34\n",
            "1                    1.541410   29\n",
            "2                    1.223819   31\n",
            "3                    2.275154   31\n",
            "4                    5.760438   41\n"
          ]
        }
      ],
      "source": [
        "df_merged['Last_Promoted'] = pd.to_datetime(df_merged['Last_Promoted'])\n",
        "df_merged['Birthdate'] = pd.to_datetime(df_merged['Birthdate'])\n",
        "\n",
        "today = pd.Timestamp.today()\n",
        "\n",
        "# Calculate years since last promotion using days / 365.25\n",
        "df_merged['Years_Since_Last_Promotion'] = (today - df_merged['Last_Promoted']).dt.days / 365.25\n",
        "\n",
        "# Calculate age as integer years\n",
        "df_merged['age'] = ((today - df_merged['Birthdate']).dt.days / 365.25).astype(int)\n",
        "\n",
        "\n",
        "# Renaming DataFrame for feature-engineered data\n",
        "df_featured = df_merged.copy()\n",
        "\n",
        "# Optionally drop original columns\n",
        "df_featured.drop(columns=['Last_Promoted', 'Birthdate'], inplace=True)\n",
        "\n",
        "print(df_featured[['Years_Since_Last_Promotion', 'age']].head())"
      ]
    },
    {
      "cell_type": "code",
      "execution_count": 8,
      "metadata": {},
      "outputs": [
        {
          "name": "stdout",
          "output_type": "stream",
          "text": [
            "                Current_Role  Zip Code  Employee Annual Salary$  \\\n",
            "0   Senior Software Engineer     94103                   130800   \n",
            "1   Associate Data Scientist     94111                    74250   \n",
            "2  Associate Product Manager     10009                   125850   \n",
            "3           Business Analyst     60605                    84750   \n",
            "4    Chief Operating Officer      2101                   300000   \n",
            "\n",
            "   Monthly Medical contribution$  Monthly Dental Contribution$  \\\n",
            "0                            130                            35   \n",
            "1                            105                            30   \n",
            "2                            130                            35   \n",
            "3                            105                            30   \n",
            "4                            230                            55   \n",
            "\n",
            "   Monthly Vision Contribution$  Bonus $  Years_Of_Service    Department  \\\n",
            "0                            19    13865               5.2   Engineering   \n",
            "1                            17     4344               1.7  Data Science   \n",
            "2                            19    15920               1.3       Product   \n",
            "3                            17     5890               3.9       Finance   \n",
            "4                            27    90000              15.2     Executive   \n",
            "\n",
            "       Gender  Employee HR rate  # of Hours per week  \\\n",
            "0        Male                60                   40   \n",
            "1  Non-Binary               117                   40   \n",
            "2  Non-Binary               147                   40   \n",
            "3      Female               153                   40   \n",
            "4      Female                79                   40   \n",
            "\n",
            "   Years_Since_Last_Promotion  age  \n",
            "0                    2.778919   34  \n",
            "1                    1.541410   29  \n",
            "2                    1.223819   31  \n",
            "3                    2.275154   31  \n",
            "4                    5.760438   41  \n"
          ]
        }
      ],
      "source": [
        "print(df_featured.head())"
      ]
    },
    {
      "cell_type": "code",
      "execution_count": 9,
      "metadata": {},
      "outputs": [
        {
          "name": "stdout",
          "output_type": "stream",
          "text": [
            "Index(['Current_Role', 'Zip Code', 'Employee Annual Salary$',\n",
            "       'Monthly Medical contribution$', 'Monthly Dental Contribution$',\n",
            "       'Monthly Vision Contribution$', 'Bonus $', 'Years_Of_Service',\n",
            "       'Department', 'Gender', 'Employee HR rate', '# of Hours per week',\n",
            "       'Years_Since_Last_Promotion', 'age'],\n",
            "      dtype='object')\n"
          ]
        }
      ],
      "source": [
        "print(df_featured.columns)"
      ]
    },
    {
      "cell_type": "code",
      "execution_count": 10,
      "metadata": {},
      "outputs": [
        {
          "name": "stdout",
          "output_type": "stream",
          "text": [
            "(100, 14)\n"
          ]
        }
      ],
      "source": [
        "print(df_featured.shape)"
      ]
    },
    {
      "cell_type": "markdown",
      "metadata": {},
      "source": [
        "## Create Custom Dependent Column"
      ]
    },
    {
      "cell_type": "code",
      "execution_count": 11,
      "metadata": {},
      "outputs": [],
      "source": [
        "# Create a boolean Series for condition\n",
        "condition = df_featured['Years_Since_Last_Promotion'] > 5\n",
        "\n",
        "# Group by that boolean condition\n",
        "grouped = df_featured.groupby(condition)\n"
      ]
    },
    {
      "cell_type": "code",
      "execution_count": 12,
      "metadata": {},
      "outputs": [
        {
          "name": "stdout",
          "output_type": "stream",
          "text": [
            "Years_Since_Last_Promotion\n",
            "False    89\n",
            "True     11\n",
            "dtype: int64\n"
          ]
        }
      ],
      "source": [
        "print(grouped.size())"
      ]
    },
    {
      "cell_type": "code",
      "execution_count": 13,
      "metadata": {},
      "outputs": [],
      "source": [
        "df_featured['left'] = (df_featured['Years_Since_Last_Promotion'] > 5).astype(int)\n",
        "\n",
        "# Renaming DataFrame for updated-engineered data\n",
        "df_updated = df_featured.copy()"
      ]
    },
    {
      "cell_type": "code",
      "execution_count": 14,
      "metadata": {},
      "outputs": [
        {
          "name": "stdout",
          "output_type": "stream",
          "text": [
            "   Years_Since_Last_Promotion  left\n",
            "0                    2.778919     0\n",
            "1                    1.541410     0\n",
            "2                    1.223819     0\n",
            "3                    2.275154     0\n",
            "4                    5.760438     1\n"
          ]
        }
      ],
      "source": [
        "print(df_updated[['Years_Since_Last_Promotion', 'left']].head())"
      ]
    },
    {
      "cell_type": "markdown",
      "metadata": {},
      "source": [
        "## Export Updated Excel"
      ]
    },
    {
      "cell_type": "code",
      "execution_count": 15,
      "metadata": {},
      "outputs": [],
      "source": [
        "# Create the folder if it doesn't exist\n",
        "os.makedirs(\"updated_data\", exist_ok=True)\n",
        "\n",
        "# Save the Excel file inside the folder\n",
        "df_updated.to_excel(\"updated_data/updated_data.xlsx\", index=False)\n"
      ]
    }
  ],
  "metadata": {
    "colab": {
      "collapsed_sections": [],
      "name": "data_preprocessing_tools.ipynb",
      "provenance": [],
      "toc_visible": true
    },
    "kernelspec": {
      "display_name": ".venv",
      "language": "python",
      "name": "python3"
    },
    "language_info": {
      "codemirror_mode": {
        "name": "ipython",
        "version": 3
      },
      "file_extension": ".py",
      "mimetype": "text/x-python",
      "name": "python",
      "nbconvert_exporter": "python",
      "pygments_lexer": "ipython3",
      "version": "3.13.3"
    }
  },
  "nbformat": 4,
  "nbformat_minor": 0
}
