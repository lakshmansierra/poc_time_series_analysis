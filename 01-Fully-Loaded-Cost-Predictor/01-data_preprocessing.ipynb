{
  "cells": [
    {
      "cell_type": "markdown",
      "metadata": {
        "colab_type": "text",
        "id": "37puETfgRzzg"
      },
      "source": [
        "# Data Preprocessing Tools"
      ]
    },
    {
      "cell_type": "markdown",
      "metadata": {
        "colab_type": "text",
        "id": "EoRP98MpR-qj"
      },
      "source": [
        "## Importing the libraries"
      ]
    },
    {
      "cell_type": "code",
      "execution_count": 182,
      "metadata": {
        "colab": {},
        "colab_type": "code",
        "id": "N-qiINBQSK2g"
      },
      "outputs": [],
      "source": [
        "import os\n",
        "import numpy as np\n",
        "import matplotlib.pyplot as plt\n",
        "import pandas as pd\n"
      ]
    },
    {
      "cell_type": "markdown",
      "metadata": {
        "colab_type": "text",
        "id": "RopL7tUZSQkT"
      },
      "source": [
        "## Importing the dataset"
      ]
    },
    {
      "cell_type": "code",
      "execution_count": 183,
      "metadata": {},
      "outputs": [],
      "source": [
        "# Your selected columns\n",
        "s4_req_cols = ['SAP Personnel #', 'Current_Role', 'Birthdate']\n",
        "workday_req_cols = ['Employee_ID', 'Years_Of_Service', 'Last_Promoted', 'Department',\n",
        "                    'Employee HR rate', '# of Hours per week', 'Calculated Column - Fully Loaded Cost']\n",
        "\n",
        "# Load only required columns\n",
        "df_s4 = pd.read_excel(\"0_raw_data/resources_s4.xlsx\", usecols=s4_req_cols)\n",
        "df_workday = pd.read_excel(\"0_raw_data/resources_workday.xlsx\", usecols=workday_req_cols)\n"
      ]
    },
    {
      "cell_type": "code",
      "execution_count": 184,
      "metadata": {},
      "outputs": [
        {
          "name": "stdout",
          "output_type": "stream",
          "text": [
            "   SAP Personnel #               Current_Role  Birthdate\n",
            "0               57   Senior Software Engineer 1991-05-19\n",
            "1               58   Associate Data Scientist 1996-03-23\n",
            "2               59  Associate Product Manager 1993-09-25\n",
            "3               60           Business Analyst 1994-03-03\n",
            "4               61    Chief Operating Officer 1984-01-13\n",
            "   Employee_ID  Years_Of_Service Last_Promoted    Department  \\\n",
            "0           57               5.2    2022-08-15   Engineering   \n",
            "1           58               1.7    2023-11-10  Data Science   \n",
            "2           59               1.3    2024-03-05       Product   \n",
            "3           60               3.9    2023-02-15       Finance   \n",
            "4           61              15.2    2019-08-22     Executive   \n",
            "\n",
            "   Employee HR rate  # of Hours per week  \\\n",
            "0                60                   40   \n",
            "1               117                   40   \n",
            "2               147                   40   \n",
            "3               153                   40   \n",
            "4                79                   40   \n",
            "\n",
            "   Calculated Column - Fully Loaded Cost  \n",
            "0                              163355.20  \n",
            "1                               92926.13  \n",
            "2                              160081.53  \n",
            "3                              105775.38  \n",
            "4                              412283.65  \n"
          ]
        }
      ],
      "source": [
        "print(df_s4.head())\n",
        "print(df_workday.head())"
      ]
    },
    {
      "cell_type": "markdown",
      "metadata": {},
      "source": [
        "## Merging the dataset"
      ]
    },
    {
      "cell_type": "code",
      "execution_count": 185,
      "metadata": {},
      "outputs": [],
      "source": [
        "# Merge on SAP Personnel # and Employee_ID\n",
        "df_merged = pd.merge(df_s4, df_workday, left_on='SAP Personnel #', right_on='Employee_ID', how='inner')\n",
        "\n",
        "# Drop both ID columns since they are just identifiers\n",
        "df_merged.drop(columns=['SAP Personnel #'], errors='ignore', inplace=True)"
      ]
    },
    {
      "cell_type": "code",
      "execution_count": 186,
      "metadata": {},
      "outputs": [
        {
          "name": "stdout",
          "output_type": "stream",
          "text": [
            "                Current_Role  Birthdate  Employee_ID  Years_Of_Service  \\\n",
            "0   Senior Software Engineer 1991-05-19           57               5.2   \n",
            "1   Associate Data Scientist 1996-03-23           58               1.7   \n",
            "2  Associate Product Manager 1993-09-25           59               1.3   \n",
            "3           Business Analyst 1994-03-03           60               3.9   \n",
            "4    Chief Operating Officer 1984-01-13           61              15.2   \n",
            "\n",
            "  Last_Promoted    Department  Employee HR rate  # of Hours per week  \\\n",
            "0    2022-08-15   Engineering                60                   40   \n",
            "1    2023-11-10  Data Science               117                   40   \n",
            "2    2024-03-05       Product               147                   40   \n",
            "3    2023-02-15       Finance               153                   40   \n",
            "4    2019-08-22     Executive                79                   40   \n",
            "\n",
            "   Calculated Column - Fully Loaded Cost  \n",
            "0                              163355.20  \n",
            "1                               92926.13  \n",
            "2                              160081.53  \n",
            "3                              105775.38  \n",
            "4                              412283.65  \n"
          ]
        }
      ],
      "source": [
        "print(df_merged.head())"
      ]
    },
    {
      "cell_type": "code",
      "execution_count": 187,
      "metadata": {},
      "outputs": [
        {
          "name": "stdout",
          "output_type": "stream",
          "text": [
            "(100, 9)\n"
          ]
        }
      ],
      "source": [
        "print(df_merged.shape)"
      ]
    },
    {
      "cell_type": "markdown",
      "metadata": {},
      "source": [
        "## Feature Engineering"
      ]
    },
    {
      "cell_type": "code",
      "execution_count": 188,
      "metadata": {},
      "outputs": [
        {
          "name": "stdout",
          "output_type": "stream",
          "text": [
            "   Years_Since_Last_Promotion  age\n",
            "0                    2.800821   34\n",
            "1                    1.563313   29\n",
            "2                    1.245722   31\n",
            "3                    2.297057   31\n",
            "4                    5.782341   41\n"
          ]
        }
      ],
      "source": [
        "df_merged['Last_Promoted'] = pd.to_datetime(df_merged['Last_Promoted'])\n",
        "df_merged['Birthdate'] = pd.to_datetime(df_merged['Birthdate'])\n",
        "df_merged['Monthly FLC'] = df_merged['Calculated Column - Fully Loaded Cost']/12\n",
        "\n",
        "today = pd.Timestamp.today()\n",
        "\n",
        "# Calculate years since last promotion using days / 365.25\n",
        "df_merged['Years_Since_Last_Promotion'] = (today - df_merged['Last_Promoted']).dt.days / 365.25\n",
        "\n",
        "# Calculate age as integer years\n",
        "df_merged['age'] = ((today - df_merged['Birthdate']).dt.days / 365.25).astype(int)\n",
        "\n",
        "\n",
        "# Renaming DataFrame for feature-engineered data\n",
        "df_featured = df_merged.copy()\n",
        "\n",
        "# Optionally drop original columns\n",
        "df_featured.drop(columns=['Last_Promoted', 'Birthdate'], inplace=True)\n",
        "\n",
        "print(df_featured[['Years_Since_Last_Promotion', 'age']].head())"
      ]
    },
    {
      "cell_type": "code",
      "execution_count": 189,
      "metadata": {},
      "outputs": [
        {
          "name": "stdout",
          "output_type": "stream",
          "text": [
            "                Current_Role  Employee_ID  Years_Of_Service    Department  \\\n",
            "0   Senior Software Engineer           57               5.2   Engineering   \n",
            "1   Associate Data Scientist           58               1.7  Data Science   \n",
            "2  Associate Product Manager           59               1.3       Product   \n",
            "3           Business Analyst           60               3.9       Finance   \n",
            "4    Chief Operating Officer           61              15.2     Executive   \n",
            "\n",
            "   Employee HR rate  # of Hours per week  \\\n",
            "0                60                   40   \n",
            "1               117                   40   \n",
            "2               147                   40   \n",
            "3               153                   40   \n",
            "4                79                   40   \n",
            "\n",
            "   Calculated Column - Fully Loaded Cost   Monthly FLC  \\\n",
            "0                              163355.20  13612.933333   \n",
            "1                               92926.13   7743.844167   \n",
            "2                              160081.53  13340.127500   \n",
            "3                              105775.38   8814.615000   \n",
            "4                              412283.65  34356.970833   \n",
            "\n",
            "   Years_Since_Last_Promotion  age  \n",
            "0                    2.800821   34  \n",
            "1                    1.563313   29  \n",
            "2                    1.245722   31  \n",
            "3                    2.297057   31  \n",
            "4                    5.782341   41  \n"
          ]
        }
      ],
      "source": [
        "print(df_featured.head())"
      ]
    },
    {
      "cell_type": "code",
      "execution_count": 190,
      "metadata": {},
      "outputs": [
        {
          "name": "stdout",
          "output_type": "stream",
          "text": [
            "Index(['Current_Role', 'Employee_ID', 'Years_Of_Service', 'Department',\n",
            "       'Employee HR rate', '# of Hours per week',\n",
            "       'Calculated Column - Fully Loaded Cost', 'Monthly FLC',\n",
            "       'Years_Since_Last_Promotion', 'age'],\n",
            "      dtype='object')\n"
          ]
        }
      ],
      "source": [
        "print(df_featured.columns)"
      ]
    },
    {
      "cell_type": "code",
      "execution_count": 191,
      "metadata": {},
      "outputs": [
        {
          "name": "stdout",
          "output_type": "stream",
          "text": [
            "(100, 10)\n"
          ]
        }
      ],
      "source": [
        "print(df_featured.shape)"
      ]
    },
    {
      "cell_type": "markdown",
      "metadata": {},
      "source": [
        "## Create Custom Dependent Column"
      ]
    },
    {
      "cell_type": "code",
      "execution_count": 192,
      "metadata": {},
      "outputs": [],
      "source": [
        "# Create a boolean Series for condition\n",
        "condition = df_featured['Years_Since_Last_Promotion'] > 5\n",
        "\n",
        "# Group by that boolean condition\n",
        "grouped = df_featured.groupby(condition)\n"
      ]
    },
    {
      "cell_type": "code",
      "execution_count": 193,
      "metadata": {},
      "outputs": [
        {
          "name": "stdout",
          "output_type": "stream",
          "text": [
            "Years_Since_Last_Promotion\n",
            "False    89\n",
            "True     11\n",
            "dtype: int64\n"
          ]
        }
      ],
      "source": [
        "print(grouped.size())"
      ]
    },
    {
      "cell_type": "code",
      "execution_count": 194,
      "metadata": {},
      "outputs": [],
      "source": [
        "df_featured['left'] = (df_featured['Years_Since_Last_Promotion'] > 5).astype(int)\n",
        "\n",
        "# Renaming DataFrame for updated-engineered data\n",
        "df_updated = df_featured.copy()"
      ]
    },
    {
      "cell_type": "code",
      "execution_count": 195,
      "metadata": {},
      "outputs": [
        {
          "name": "stdout",
          "output_type": "stream",
          "text": [
            "   Years_Since_Last_Promotion  left\n",
            "0                    2.800821     0\n",
            "1                    1.563313     0\n",
            "2                    1.245722     0\n",
            "3                    2.297057     0\n",
            "4                    5.782341     1\n"
          ]
        }
      ],
      "source": [
        "print(df_updated[['Years_Since_Last_Promotion', 'left']].head())"
      ]
    },
    {
      "cell_type": "markdown",
      "metadata": {},
      "source": [
        "## Export Updated Excel"
      ]
    },
    {
      "cell_type": "code",
      "execution_count": 196,
      "metadata": {},
      "outputs": [],
      "source": [
        "# Create the folder if it doesn't exist\n",
        "os.makedirs(\"1_updated_data\", exist_ok=True)\n",
        "\n",
        "# Save the Excel file inside the folder\n",
        "df_updated.to_excel(\"1_updated_data/1_updated_data.xlsx\", index=False)\n"
      ]
    }
  ],
  "metadata": {
    "colab": {
      "collapsed_sections": [],
      "name": "data_preprocessing_tools.ipynb",
      "provenance": [],
      "toc_visible": true
    },
    "kernelspec": {
      "display_name": ".venv",
      "language": "python",
      "name": "python3"
    },
    "language_info": {
      "codemirror_mode": {
        "name": "ipython",
        "version": 3
      },
      "file_extension": ".py",
      "mimetype": "text/x-python",
      "name": "python",
      "nbconvert_exporter": "python",
      "pygments_lexer": "ipython3",
      "version": "3.13.3"
    }
  },
  "nbformat": 4,
  "nbformat_minor": 0
}
