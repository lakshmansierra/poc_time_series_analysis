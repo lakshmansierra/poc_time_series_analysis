{
  "cells": [
    {
      "cell_type": "markdown",
      "metadata": {
        "colab_type": "text",
        "id": "37puETfgRzzg"
      },
      "source": [
        "# Arima Forecasting"
      ]
    },
    {
      "cell_type": "markdown",
      "metadata": {
        "colab_type": "text",
        "id": "EoRP98MpR-qj"
      },
      "source": [
        "## Importing the libraries"
      ]
    },
    {
      "cell_type": "code",
      "execution_count": 23,
      "metadata": {
        "colab": {},
        "colab_type": "code",
        "id": "N-qiINBQSK2g"
      },
      "outputs": [],
      "source": [
        "import os\n",
        "from datetime import datetime\n",
        "import numpy as np\n",
        "import matplotlib.pyplot as plt\n",
        "import pandas as pd\n"
      ]
    },
    {
      "cell_type": "markdown",
      "metadata": {
        "colab_type": "text",
        "id": "RopL7tUZSQkT"
      },
      "source": [
        "## Importing the dataset"
      ]
    },
    {
      "cell_type": "code",
      "execution_count": 24,
      "metadata": {},
      "outputs": [],
      "source": [
        "df = pd.read_excel(\"ts_data/ts_data.xlsx\")\n"
      ]
    },
    {
      "cell_type": "code",
      "execution_count": 25,
      "metadata": {},
      "outputs": [
        {
          "name": "stdout",
          "output_type": "stream",
          "text": [
            "   Employee_ID year_month  Annual_load_cost_per_month\n",
            "0           57    2000-07                      9329.0\n",
            "1           57    2000-08                      9329.0\n",
            "2           57    2000-09                      9329.0\n",
            "3           57    2000-10                      9329.0\n",
            "4           57    2000-11                      9329.0\n"
          ]
        }
      ],
      "source": [
        "print(df.head())"
      ]
    },
    {
      "cell_type": "code",
      "execution_count": 26,
      "metadata": {},
      "outputs": [
        {
          "name": "stdout",
          "output_type": "stream",
          "text": [
            "Index(['Employee_ID', 'year_month', 'Annual_load_cost_per_month'], dtype='object')\n"
          ]
        }
      ],
      "source": [
        "print(df.columns)"
      ]
    },
    {
      "cell_type": "code",
      "execution_count": 27,
      "metadata": {},
      "outputs": [
        {
          "name": "stdout",
          "output_type": "stream",
          "text": [
            "Employee_ID                     int64\n",
            "year_month                     object\n",
            "Annual_load_cost_per_month    float64\n",
            "dtype: object\n"
          ]
        }
      ],
      "source": [
        "print(df.dtypes)"
      ]
    },
    {
      "cell_type": "code",
      "execution_count": 28,
      "metadata": {},
      "outputs": [],
      "source": [
        "df['year_month'] = pd.to_datetime(df['year_month'], format='%Y-%m')"
      ]
    },
    {
      "cell_type": "code",
      "execution_count": 29,
      "metadata": {},
      "outputs": [
        {
          "name": "stdout",
          "output_type": "stream",
          "text": [
            "Employee_ID                            int64\n",
            "year_month                    datetime64[ns]\n",
            "Annual_load_cost_per_month           float64\n",
            "dtype: object\n"
          ]
        }
      ],
      "source": [
        "print(df.dtypes)"
      ]
    },
    {
      "cell_type": "markdown",
      "metadata": {},
      "source": [
        "## 100 Different Data Frame For Individual User"
      ]
    },
    {
      "cell_type": "code",
      "execution_count": 30,
      "metadata": {},
      "outputs": [
        {
          "name": "stdout",
          "output_type": "stream",
          "text": [
            "[ 57  58  59  60  61  62  63  64  65  66  67  68  69  70  71  72  73  74\n",
            "  75  76  77  78  79  80  81  82  83  84  85  86  87  88  89  90  91  92\n",
            "  93  94  95  96  97  98  99 100 101 102 103 104 105 106 107 108 109 110\n",
            " 111 112 113 114 115 116 117 118 119 120 121 122 123 124 125 126 127 128\n",
            " 129 130 131 132 133 134 135 136 137 138 139 140 141 142 143 144 145 146\n",
            " 147 148 149 150 151 152 153 154 155 156]\n"
          ]
        }
      ],
      "source": [
        "unique_employees = df['Employee_ID'].unique()\n",
        "print(unique_employees)"
      ]
    },
    {
      "cell_type": "code",
      "execution_count": 31,
      "metadata": {},
      "outputs": [],
      "source": [
        "employee_dfs = {}\n",
        "\n",
        "# Step 4: Loop through each employee ID\n",
        "for emp_id in unique_employees:\n",
        "    # Step 5: Filter data for just this employee\n",
        "    emp_df = df[df['Employee_ID'] == emp_id]\n",
        "\n",
        "    # Step 6: Save it into the dictionary\n",
        "    employee_dfs[emp_id] = emp_df"
      ]
    },
    {
      "cell_type": "code",
      "execution_count": 32,
      "metadata": {},
      "outputs": [
        {
          "name": "stdout",
          "output_type": "stream",
          "text": [
            "     Employee_ID year_month  Annual_load_cost_per_month\n",
            "300           58 2000-07-01                     5427.00\n",
            "301           58 2000-08-01                     5427.00\n",
            "302           58 2000-09-01                     5427.00\n",
            "303           58 2000-10-01                     5427.00\n",
            "304           58 2000-11-01                     5427.00\n",
            "..           ...        ...                         ...\n",
            "595           58 2025-02-01                     7743.84\n",
            "596           58 2025-03-01                     7743.84\n",
            "597           58 2025-04-01                     7743.84\n",
            "598           58 2025-05-01                     7743.84\n",
            "599           58 2025-06-01                     7743.84\n",
            "\n",
            "[300 rows x 3 columns]\n"
          ]
        }
      ],
      "source": [
        "individual_emp = employee_dfs[58]\n",
        "print(individual_emp)"
      ]
    },
    {
      "cell_type": "markdown",
      "metadata": {},
      "source": [
        "## Forecasting with ARIMA"
      ]
    },
    {
      "cell_type": "code",
      "execution_count": 33,
      "metadata": {},
      "outputs": [],
      "source": [
        "from statsmodels.tsa.arima.model import ARIMA\n",
        "\n",
        "def forecast_employee(emp_df, steps=12):\n",
        "    # Make sure data is sorted by time\n",
        "    emp_df = emp_df.sort_values(by='year_month')\n",
        "\n",
        "    # Use only the cost column for forecasting\n",
        "    series = emp_df['Annual_load_cost_per_month'].values\n",
        "\n",
        "    # Fit ARIMA model\n",
        "    model = ARIMA(series, order=(1, 1, 1))  # (p,d,q) can be tuned\n",
        "    model_fit = model.fit()\n",
        "\n",
        "    # Forecast future values\n",
        "    forecast = model_fit.forecast(steps=steps)\n",
        "\n",
        "    return forecast"
      ]
    },
    {
      "cell_type": "code",
      "execution_count": 34,
      "metadata": {},
      "outputs": [],
      "source": [
        "employee_forecasts = {}\n",
        "\n",
        "for emp_id, emp_df in employee_dfs.items():\n",
        "    forecast = forecast_employee(emp_df)\n",
        "    employee_forecasts[emp_id] = forecast"
      ]
    },
    {
      "cell_type": "code",
      "execution_count": 35,
      "metadata": {},
      "outputs": [
        {
          "name": "stdout",
          "output_type": "stream",
          "text": [
            "[7743.84 7743.84 7743.84 7743.84 7743.84 7743.84 7743.84 7743.84 7743.84\n",
            " 7743.84 7743.84 7743.84]\n"
          ]
        }
      ],
      "source": [
        "print(employee_forecasts[58])"
      ]
    },
    {
      "cell_type": "markdown",
      "metadata": {},
      "source": [
        "## Plot Prediction of Single Employee"
      ]
    },
    {
      "cell_type": "markdown",
      "metadata": {},
      "source": [
        "## Save the Predictions of Individual Employees in Separate Table"
      ]
    },
    {
      "cell_type": "code",
      "execution_count": null,
      "metadata": {},
      "outputs": [],
      "source": []
    }
  ],
  "metadata": {
    "colab": {
      "collapsed_sections": [],
      "name": "data_preprocessing_tools.ipynb",
      "provenance": [],
      "toc_visible": true
    },
    "kernelspec": {
      "display_name": ".venv",
      "language": "python",
      "name": "python3"
    },
    "language_info": {
      "codemirror_mode": {
        "name": "ipython",
        "version": 3
      },
      "file_extension": ".py",
      "mimetype": "text/x-python",
      "name": "python",
      "nbconvert_exporter": "python",
      "pygments_lexer": "ipython3",
      "version": "3.13.3"
    }
  },
  "nbformat": 4,
  "nbformat_minor": 0
}
